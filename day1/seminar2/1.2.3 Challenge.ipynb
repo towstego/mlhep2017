{
 "cells": [
  {
   "cell_type": "code",
   "execution_count": 1,
   "metadata": {
    "collapsed": true
   },
   "outputs": [],
   "source": [
    "import numpy as np\n",
    "import pandas as pd\n",
    "\n",
    "from matplotlib import pyplot as plt\n",
    "%matplotlib inline"
   ]
  },
  {
   "cell_type": "markdown",
   "metadata": {},
   "source": [
    "### Challenge baseline"
   ]
  },
  {
   "cell_type": "code",
   "execution_count": 3,
   "metadata": {},
   "outputs": [
    {
     "name": "stderr",
     "output_type": "stream",
     "text": [
      "/opt/conda/lib/python3.6/site-packages/numpy/lib/arraysetops.py:395: FutureWarning: elementwise comparison failed; returning scalar instead, but in the future will perform elementwise comparison\n",
      "  mask |= (ar1 == a)\n"
     ]
    },
    {
     "data": {
      "text/html": [
       "<div>\n",
       "<style>\n",
       "    .dataframe thead tr:only-child th {\n",
       "        text-align: right;\n",
       "    }\n",
       "\n",
       "    .dataframe thead th {\n",
       "        text-align: left;\n",
       "    }\n",
       "\n",
       "    .dataframe tbody tr th {\n",
       "        vertical-align: top;\n",
       "    }\n",
       "</style>\n",
       "<table border=\"1\" class=\"dataframe\">\n",
       "  <thead>\n",
       "    <tr style=\"text-align: right;\">\n",
       "      <th></th>\n",
       "      <th>event_id</th>\n",
       "      <th>X</th>\n",
       "      <th>Y</th>\n",
       "      <th>Z</th>\n",
       "      <th>TX</th>\n",
       "      <th>TY</th>\n",
       "      <th>chi2</th>\n",
       "      <th>signal</th>\n",
       "    </tr>\n",
       "    <tr>\n",
       "      <th>index</th>\n",
       "      <th></th>\n",
       "      <th></th>\n",
       "      <th></th>\n",
       "      <th></th>\n",
       "      <th></th>\n",
       "      <th></th>\n",
       "      <th></th>\n",
       "      <th></th>\n",
       "    </tr>\n",
       "  </thead>\n",
       "  <tbody>\n",
       "    <tr>\n",
       "      <th>0</th>\n",
       "      <td>-999</td>\n",
       "      <td>42720.238281</td>\n",
       "      <td>75152.406250</td>\n",
       "      <td>32325.0</td>\n",
       "      <td>-0.475539</td>\n",
       "      <td>0.405506</td>\n",
       "      <td>2.652586</td>\n",
       "      <td>0.0</td>\n",
       "    </tr>\n",
       "    <tr>\n",
       "      <th>1</th>\n",
       "      <td>-999</td>\n",
       "      <td>46023.816406</td>\n",
       "      <td>37043.359375</td>\n",
       "      <td>21981.0</td>\n",
       "      <td>0.330822</td>\n",
       "      <td>-0.013988</td>\n",
       "      <td>2.497527</td>\n",
       "      <td>0.0</td>\n",
       "    </tr>\n",
       "    <tr>\n",
       "      <th>2</th>\n",
       "      <td>-999</td>\n",
       "      <td>52706.117188</td>\n",
       "      <td>33872.730469</td>\n",
       "      <td>16809.0</td>\n",
       "      <td>0.342634</td>\n",
       "      <td>-0.058724</td>\n",
       "      <td>2.120421</td>\n",
       "      <td>0.0</td>\n",
       "    </tr>\n",
       "    <tr>\n",
       "      <th>3</th>\n",
       "      <td>-999</td>\n",
       "      <td>47334.101562</td>\n",
       "      <td>9698.531250</td>\n",
       "      <td>60771.0</td>\n",
       "      <td>0.007868</td>\n",
       "      <td>-0.632822</td>\n",
       "      <td>0.618535</td>\n",
       "      <td>0.0</td>\n",
       "    </tr>\n",
       "    <tr>\n",
       "      <th>4</th>\n",
       "      <td>-999</td>\n",
       "      <td>67380.835938</td>\n",
       "      <td>19137.265625</td>\n",
       "      <td>37497.0</td>\n",
       "      <td>-0.212537</td>\n",
       "      <td>-0.192243</td>\n",
       "      <td>2.799303</td>\n",
       "      <td>0.0</td>\n",
       "    </tr>\n",
       "  </tbody>\n",
       "</table>\n",
       "</div>"
      ],
      "text/plain": [
       "       event_id             X             Y        Z        TX        TY  \\\n",
       "index                                                                      \n",
       "0          -999  42720.238281  75152.406250  32325.0 -0.475539  0.405506   \n",
       "1          -999  46023.816406  37043.359375  21981.0  0.330822 -0.013988   \n",
       "2          -999  52706.117188  33872.730469  16809.0  0.342634 -0.058724   \n",
       "3          -999  47334.101562   9698.531250  60771.0  0.007868 -0.632822   \n",
       "4          -999  67380.835938  19137.265625  37497.0 -0.212537 -0.192243   \n",
       "\n",
       "           chi2  signal  \n",
       "index                    \n",
       "0      2.652586     0.0  \n",
       "1      2.497527     0.0  \n",
       "2      2.120421     0.0  \n",
       "3      0.618535     0.0  \n",
       "4      2.799303     0.0  "
      ]
     },
     "execution_count": 3,
     "metadata": {},
     "output_type": "execute_result"
    }
   ],
   "source": [
    "df = pd.read_csv('/data_mlhep2017/episode1/DS_1_train.csv', index_col=0)\n",
    "\n",
    "df.head()"
   ]
  },
  {
   "cell_type": "markdown",
   "metadata": {},
   "source": [
    "### Build a train dataset\n",
    "Ideally, you could design features here that improve model performance. \n",
    "\n",
    "Baseline, however, simply takes some of the features while also balansing classes."
   ]
  },
  {
   "cell_type": "code",
   "execution_count": 4,
   "metadata": {},
   "outputs": [
    {
     "name": "stdout",
     "output_type": "stream",
     "text": [
      "101018\n"
     ]
    }
   ],
   "source": [
    "train_df = np.concatenate([df[df.signal == True].values[:, 6:8],\n",
    "                           df[df.signal == False].values[:50000, 6:8]])\n",
    "\n",
    "print(len(train_df))"
   ]
  },
  {
   "cell_type": "code",
   "execution_count": 5,
   "metadata": {
    "collapsed": true
   },
   "outputs": [],
   "source": [
    "X_train = train_df[:, 0].reshape(-1, 1)\n",
    "y_train =  np.array(train_df[:, 1], dtype = int)"
   ]
  },
  {
   "cell_type": "markdown",
   "metadata": {},
   "source": [
    "### Train a model"
   ]
  },
  {
   "cell_type": "code",
   "execution_count": 6,
   "metadata": {},
   "outputs": [
    {
     "data": {
      "text/plain": [
       "DecisionTreeClassifier(class_weight=None, criterion='gini', max_depth=1,\n",
       "            max_features=None, max_leaf_nodes=None,\n",
       "            min_impurity_split=1e-07, min_samples_leaf=1,\n",
       "            min_samples_split=2, min_weight_fraction_leaf=0.0,\n",
       "            presort=False, random_state=None, splitter='best')"
      ]
     },
     "execution_count": 6,
     "metadata": {},
     "output_type": "execute_result"
    }
   ],
   "source": [
    "from sklearn.tree import DecisionTreeClassifier\n",
    "\n",
    "clf = DecisionTreeClassifier(max_depth = 1)\n",
    "\n",
    "clf.fit(X_train,y_train)"
   ]
  },
  {
   "cell_type": "markdown",
   "metadata": {},
   "source": [
    "### Prediction"
   ]
  },
  {
   "cell_type": "code",
   "execution_count": 7,
   "metadata": {},
   "outputs": [
    {
     "name": "stderr",
     "output_type": "stream",
     "text": [
      "/opt/conda/lib/python3.6/site-packages/numpy/lib/arraysetops.py:395: FutureWarning: elementwise comparison failed; returning scalar instead, but in the future will perform elementwise comparison\n",
      "  mask |= (ar1 == a)\n"
     ]
    },
    {
     "data": {
      "text/html": [
       "<div>\n",
       "<style>\n",
       "    .dataframe thead tr:only-child th {\n",
       "        text-align: right;\n",
       "    }\n",
       "\n",
       "    .dataframe thead th {\n",
       "        text-align: left;\n",
       "    }\n",
       "\n",
       "    .dataframe tbody tr th {\n",
       "        vertical-align: top;\n",
       "    }\n",
       "</style>\n",
       "<table border=\"1\" class=\"dataframe\">\n",
       "  <thead>\n",
       "    <tr style=\"text-align: right;\">\n",
       "      <th></th>\n",
       "      <th>X</th>\n",
       "      <th>Y</th>\n",
       "      <th>Z</th>\n",
       "      <th>TX</th>\n",
       "      <th>TY</th>\n",
       "      <th>chi2</th>\n",
       "    </tr>\n",
       "    <tr>\n",
       "      <th>index</th>\n",
       "      <th></th>\n",
       "      <th></th>\n",
       "      <th></th>\n",
       "      <th></th>\n",
       "      <th></th>\n",
       "      <th></th>\n",
       "    </tr>\n",
       "  </thead>\n",
       "  <tbody>\n",
       "    <tr>\n",
       "      <th>0</th>\n",
       "      <td>37259.390625</td>\n",
       "      <td>62516.367188</td>\n",
       "      <td>63357.0</td>\n",
       "      <td>-0.475465</td>\n",
       "      <td>-0.250186</td>\n",
       "      <td>1.405402</td>\n",
       "    </tr>\n",
       "    <tr>\n",
       "      <th>1</th>\n",
       "      <td>41426.312500</td>\n",
       "      <td>57520.265625</td>\n",
       "      <td>25860.0</td>\n",
       "      <td>-0.213876</td>\n",
       "      <td>0.155208</td>\n",
       "      <td>2.541856</td>\n",
       "    </tr>\n",
       "    <tr>\n",
       "      <th>2</th>\n",
       "      <td>40752.921875</td>\n",
       "      <td>54653.265625</td>\n",
       "      <td>46548.0</td>\n",
       "      <td>0.044215</td>\n",
       "      <td>-0.333426</td>\n",
       "      <td>2.389629</td>\n",
       "    </tr>\n",
       "    <tr>\n",
       "      <th>3</th>\n",
       "      <td>29293.980469</td>\n",
       "      <td>23582.425781</td>\n",
       "      <td>14223.0</td>\n",
       "      <td>-0.265671</td>\n",
       "      <td>-0.137444</td>\n",
       "      <td>2.402328</td>\n",
       "    </tr>\n",
       "    <tr>\n",
       "      <th>4</th>\n",
       "      <td>49538.128906</td>\n",
       "      <td>63314.617188</td>\n",
       "      <td>31032.0</td>\n",
       "      <td>-0.063467</td>\n",
       "      <td>-0.550298</td>\n",
       "      <td>1.223460</td>\n",
       "    </tr>\n",
       "  </tbody>\n",
       "</table>\n",
       "</div>"
      ],
      "text/plain": [
       "                  X             Y        Z        TX        TY      chi2\n",
       "index                                                                   \n",
       "0      37259.390625  62516.367188  63357.0 -0.475465 -0.250186  1.405402\n",
       "1      41426.312500  57520.265625  25860.0 -0.213876  0.155208  2.541856\n",
       "2      40752.921875  54653.265625  46548.0  0.044215 -0.333426  2.389629\n",
       "3      29293.980469  23582.425781  14223.0 -0.265671 -0.137444  2.402328\n",
       "4      49538.128906  63314.617188  31032.0 -0.063467 -0.550298  1.223460"
      ]
     },
     "execution_count": 7,
     "metadata": {},
     "output_type": "execute_result"
    }
   ],
   "source": [
    "df_test = pd.read_csv('/data_mlhep2017/episode1/DS_1_test.csv', index_col=0)\n",
    "df_test.head()"
   ]
  },
  {
   "cell_type": "code",
   "execution_count": 8,
   "metadata": {
    "collapsed": true
   },
   "outputs": [],
   "source": [
    "prediction = clf.predict_proba(df_test.values[:, 5].reshape(-1, 1))[:, 1]"
   ]
  },
  {
   "cell_type": "markdown",
   "metadata": {},
   "source": [
    "### Save results"
   ]
  },
  {
   "cell_type": "code",
   "execution_count": 9,
   "metadata": {
    "collapsed": true
   },
   "outputs": [],
   "source": [
    "baseline = pd.DataFrame(prediction, columns=['Prediction'])\n",
    "baseline.index.name = 'Id'\n",
    "baseline.to_csv('baseline.csv', header=True)"
   ]
  },
  {
   "cell_type": "markdown",
   "metadata": {},
   "source": [
    "You can now download the baseline.csv in jupyter file browser and send it to Kaggle."
   ]
  }
 ],
 "metadata": {
  "anaconda-cloud": {},
  "kernelspec": {
   "display_name": "Python 3",
   "language": "python",
   "name": "python3"
  },
  "language_info": {
   "codemirror_mode": {
    "name": "ipython",
    "version": 3
   },
   "file_extension": ".py",
   "mimetype": "text/x-python",
   "name": "python",
   "nbconvert_exporter": "python",
   "pygments_lexer": "ipython3",
   "version": "3.6.1"
  }
 },
 "nbformat": 4,
 "nbformat_minor": 1
}
